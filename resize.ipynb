{
 "cells": [
  {
   "cell_type": "code",
   "execution_count": 36,
   "metadata": {},
   "outputs": [],
   "source": [
    "from PIL import Image\n",
    "import glob"
   ]
  },
  {
   "cell_type": "code",
   "execution_count": 32,
   "metadata": {},
   "outputs": [],
   "source": [
    "# gather image characteristics into image objects\n",
    "# testing here with single image\n",
    "\n",
    "img_path = r\"images\\39530001.JPG\"\n",
    "im = Image.open(img_path)"
   ]
  },
  {
   "cell_type": "code",
   "execution_count": 33,
   "metadata": {},
   "outputs": [
    {
     "name": "stdout",
     "output_type": "stream",
     "text": [
      "im.format = 'JPEG'\n",
      "im.size = (1791, 1188)\n",
      "im.mode = 'RGB'\n"
     ]
    }
   ],
   "source": [
    "print(f'{im.format = }')\n",
    "print(f'{im.size = }')\n",
    "print(f'{im.mode = }')\n",
    "im.show()"
   ]
  },
  {
   "cell_type": "code",
   "execution_count": 71,
   "metadata": {},
   "outputs": [
    {
     "data": {
      "text/plain": [
       "(591, 392)"
      ]
     },
     "execution_count": 71,
     "metadata": {},
     "output_type": "execute_result"
    }
   ],
   "source": [
    "# Make function to get pixel dimensions halved from im.size tuple\n",
    "\n",
    "half_size = [int(j * .33) for i,j in enumerate(im.size)]\n",
    "half_size = tuple(half_size)\n",
    "half_size"
   ]
  },
  {
   "cell_type": "code",
   "execution_count": 67,
   "metadata": {},
   "outputs": [],
   "source": [
    "image_list = []\n",
    "resized_image = []"
   ]
  },
  {
   "cell_type": "code",
   "execution_count": 68,
   "metadata": {},
   "outputs": [
    {
     "name": "stdout",
     "output_type": "stream",
     "text": [
      "Current filename = 'images\\\\39530001.JPG'\n",
      "Current filename = 'images\\\\39530002.JPG'\n",
      "Current filename = 'images\\\\39530003.JPG'\n",
      "Current filename = 'images\\\\39530004.JPG'\n",
      "Current filename = 'images\\\\39530005.JPG'\n",
      "Current filename = 'images\\\\39530006.JPG'\n",
      "Current filename = 'images\\\\39530007.JPG'\n",
      "Current filename = 'images\\\\39530008.JPG'\n",
      "Current filename = 'images\\\\39530009.JPG'\n",
      "Current filename = 'images\\\\39530010.JPG'\n",
      "Current filename = 'images\\\\39530011.JPG'\n",
      "Current filename = 'images\\\\39530012.JPG'\n",
      "Current filename = 'images\\\\39530013.JPG'\n",
      "Current filename = 'images\\\\39530014.JPG'\n",
      "Current filename = 'images\\\\39530015.JPG'\n",
      "Current filename = 'images\\\\39530016.JPG'\n",
      "Current filename = 'images\\\\39530017.JPG'\n",
      "Current filename = 'images\\\\39530018.JPG'\n",
      "Current filename = 'images\\\\39530019.JPG'\n",
      "Current filename = 'images\\\\39530020.JPG'\n",
      "Current filename = 'images\\\\39530021.JPG'\n",
      "Current filename = 'images\\\\39530022.JPG'\n",
      "Current filename = 'images\\\\39530023.JPG'\n",
      "Current filename = 'images\\\\39530024.JPG'\n",
      "Current filename = 'images\\\\39530025.JPG'\n",
      "Current filename = 'images\\\\39530026.JPG'\n",
      "Current filename = 'images\\\\39530027.JPG'\n",
      "Current filename = 'images\\\\39530028.JPG'\n",
      "Current filename = 'images\\\\39530029.JPG'\n",
      "Current filename = 'images\\\\39530030.JPG'\n",
      "Current filename = 'images\\\\39530031.JPG'\n",
      "Current filename = 'images\\\\39530032.JPG'\n",
      "Current filename = 'images\\\\39530033.JPG'\n",
      "Current filename = 'images\\\\39530034.JPG'\n",
      "Current filename = 'images\\\\39530035.JPG'\n",
      "Current filename = 'images\\\\39530036.JPG'\n",
      "Current filename = 'images\\\\39530037.JPG'\n"
     ]
    }
   ],
   "source": [
    "for filename in glob.glob('images/*.JPG'):\n",
    "    print(f'Current {filename = }')\n",
    "    img = Image.open(filename)\n",
    "    image_list.append(img)"
   ]
  },
  {
   "cell_type": "code",
   "execution_count": 69,
   "metadata": {},
   "outputs": [],
   "source": [
    "for image in image_list:\n",
    "    image = image.resize(half_size)\n",
    "    resized_image.append(image)"
   ]
  },
  {
   "cell_type": "code",
   "execution_count": 70,
   "metadata": {},
   "outputs": [],
   "source": [
    "for i,new in enumerate(resized_image):\n",
    "    new.save(f'images/rescaled_images/rs_{i+1}.JPG')"
   ]
  }
 ],
 "metadata": {
  "interpreter": {
   "hash": "56d5eaaf9bf9bc78efafdbcc1f733769a7fdf2cd4387b416438a71dcae9f45b4"
  },
  "kernelspec": {
   "display_name": "Python 3.9.7 ('resize-images-nrxQ1k2-')",
   "language": "python",
   "name": "python3"
  },
  "language_info": {
   "codemirror_mode": {
    "name": "ipython",
    "version": 3
   },
   "file_extension": ".py",
   "mimetype": "text/x-python",
   "name": "python",
   "nbconvert_exporter": "python",
   "pygments_lexer": "ipython3",
   "version": "3.9.7"
  },
  "orig_nbformat": 4
 },
 "nbformat": 4,
 "nbformat_minor": 2
}
